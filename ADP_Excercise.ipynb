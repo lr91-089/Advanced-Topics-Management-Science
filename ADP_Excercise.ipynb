{
  "nbformat": 4,
  "nbformat_minor": 0,
  "metadata": {
    "colab": {
      "name": "ADP_Excercise.ipynb",
      "provenance": [],
      "collapsed_sections": [],
      "authorship_tag": "ABX9TyNcM3HzHnSw4lXarqNp9VqB"
    },
    "kernelspec": {
      "name": "python3",
      "display_name": "Python 3"
    }
  },
  "cells": [
    {
      "cell_type": "code",
      "metadata": {
        "id": "SFsu0RCt_1bk"
      },
      "source": [
        "import numpy as np\r\n",
        "import matplotlib.pyplot as plt"
      ],
      "execution_count": null,
      "outputs": []
    },
    {
      "cell_type": "markdown",
      "metadata": {
        "id": "Rg_7Lu8KU6hT"
      },
      "source": [
        "# Aproximate dynamic programming\r\n",
        "\r\n",
        "\r\n",
        "In this notebook you will gain some hands-on experience with aproximate dynamic programming. You will implement your own aproximate value iteration algorithm. \r\n",
        "\r\n",
        "You will start by finishing the implementation of our asset simulation."
      ]
    },
    {
      "cell_type": "markdown",
      "metadata": {
        "id": "nOmUGsqbVvVr"
      },
      "source": [
        "# 1. Asset simulation\r\n",
        "\r\n",
        "First we need to implement our asset simulation. The class implementation is allready almost finished. The most important functions are step(), reset() and new_price(). First try to implement the right price function to generate a new price. Use the  [np.random.randint()](https://numpy.org/doc/stable/reference/random/generated/numpy.random.randint.html) function to do so. "
      ]
    },
    {
      "cell_type": "code",
      "metadata": {
        "id": "aW7YBesGBjgu"
      },
      "source": [
        "class asset_simulation():\r\n",
        "  \"\"\"\r\n",
        "  Simulates our asset and saves our current state.\r\n",
        "  the step(action) function is our transition function to the next state.\r\n",
        "  the reset() function is needed to create a new sample path\r\n",
        "  the function new_price() returns a new price given our problem definition\r\n",
        "  \r\n",
        "  Args:\r\n",
        "      T: The maximum stages of our problem-instance\r\n",
        "  \"\"\" \r\n",
        "\r\n",
        "  def __init__(self,T):\r\n",
        "    self.actions = [1,0]\r\n",
        "    self.T = T\r\n",
        "    self.reset()\r\n",
        "\r\n",
        "  def reset(self):\r\n",
        "    \"\"\"\r\n",
        "    Sets/resets all attributes to the initial state and sets the stage to zero\r\n",
        "    The state consists of the information, if we hold the asset (1) or not (0) and the current price we are offered.\r\n",
        "\r\n",
        "    Returns:\r\n",
        "      Returns the initial state and a boolean value, which indicates if we have sold the asset\r\n",
        "    \"\"\"\r\n",
        "    self.pre_state = (1,self.new_price())\r\n",
        "    self.costs = 0\r\n",
        "    self.t = 0\r\n",
        "    self.done = False\r\n",
        "    return self.pre_state, self.done\r\n",
        "\r\n",
        "  def get_state(self):\r\n",
        "    return self.pre_state\r\n",
        "\r\n",
        "  def new_price(self):\r\n",
        "    \"\"\"\r\n",
        "    Gives us a new random number, which will be our new price\r\n",
        "\r\n",
        "    Returns:\r\n",
        "      The new price for the next stage, sampled from the discrete uniform probability distribution with outcomes {0,1,2,3,4,5,6,7,8,9,10}\r\n",
        "    \"\"\"\r\n",
        "    #TODO: implement the price function, which returns a random number between 0 and 10\r\n",
        "    raise NotImplementedError\r\n",
        "\r\n",
        "  def get_stage(self):\r\n",
        "    return self.t\r\n",
        "\r\n",
        "  def get_price(self):\r\n",
        "    return self.pre_state[1]\r\n",
        "\r\n",
        "  def get_state_sold(self):\r\n",
        "    return self.pre_state[0]\r\n",
        "\r\n",
        "  def get_costs(self):\r\n",
        "    return self.costs\r\n",
        "\r\n",
        "  def cost_function(self,action):\r\n",
        "    \"\"\"\r\n",
        "    The cost function of our asset simulation/DP\r\n",
        "    \r\n",
        "    Args:\r\n",
        "      action: The action we choose to do\r\n",
        "\r\n",
        "    Returns:\r\n",
        "      The reward we would get, given the action and current state\r\n",
        "    \"\"\"\r\n",
        "    cost = action*self.get_price()\r\n",
        "    self.costs += cost\r\n",
        "    return cost*self.get_state_sold()\r\n",
        "\r\n",
        "  def step(self,action):\r\n",
        "    \"\"\"\r\n",
        "    The state transition function\r\n",
        "    \r\n",
        "    Args:\r\n",
        "      action: The action we choose to do\r\n",
        "\r\n",
        "    Returns:\r\n",
        "      The next state, the transition cost/reward and the boolean, which indicates if we sold the asset or not\r\n",
        "    \"\"\"\r\n",
        "    assert action in self.actions, \"The action must be either 1 or 0!\"\r\n",
        "    if self.get_state_sold()==1 and action==0:\r\n",
        "      post_state = 1\r\n",
        "    else:\r\n",
        "      post_state = 0\r\n",
        "    reward = self.cost_function(action)\r\n",
        "    self.pre_state = (post_state,self.new_price())\r\n",
        "    self.t += 1\r\n",
        "    if self.t>self.T or post_state==0:\r\n",
        "      self.done = True\r\n",
        "    return self.pre_state,reward,self.done\r\n",
        "\r\n"
      ],
      "execution_count": null,
      "outputs": []
    },
    {
      "cell_type": "markdown",
      "metadata": {
        "id": "pBvnl1HG3UXW"
      },
      "source": [
        "Test your asset simulation. This code cell should run without an assertion error or \"not implemented\" error."
      ]
    },
    {
      "cell_type": "code",
      "metadata": {
        "id": "g2OVxpKX1joj"
      },
      "source": [
        "np.random.seed(seed=100)\r\n",
        "test = asset_simulation(10)\r\n",
        "state0 = test.reset()\r\n",
        "state1, reward1, done = test.step(0)\r\n",
        "print(\"current state is: \",state1)\r\n",
        "assert state1==(1,3)"
      ],
      "execution_count": null,
      "outputs": []
    },
    {
      "cell_type": "markdown",
      "metadata": {
        "id": "HAUegb51XKB7"
      },
      "source": [
        "# 2. Stepsize functions\r\n",
        "\r\n",
        "We will need further some helper functions to change the form of our stepsize function. The basic stepsize 1/n is allready implemented. Please implement the constant stepsize function and the harmonic stepsize function. All functions should have the same arguments, to use them later arbitraly in our code to train the model. But not all functions need every argument (see the step_n(n,c)-function)"
      ]
    },
    {
      "cell_type": "code",
      "metadata": {
        "id": "2pVittZRhzI5"
      },
      "source": [
        "def step_n(n,c):\r\n",
        "  \"\"\"\r\n",
        "  Returns the basic step size for our current n\r\n",
        "  \r\n",
        "  Args:\r\n",
        "      n: The current training iteration\r\n",
        "      c: Constant for our learning rate function\r\n",
        "  \"\"\"\r\n",
        "  return 1/n"
      ],
      "execution_count": null,
      "outputs": []
    },
    {
      "cell_type": "code",
      "metadata": {
        "id": "TUtyAGl-h1si"
      },
      "source": [
        "def step_cnst(n,c):\r\n",
        "  \"\"\"\r\n",
        "  Returns the constant step size for our defined c\r\n",
        "  \r\n",
        "  Args:\r\n",
        "      n: The current training iteration\r\n",
        "      c: Constant for our learning rate function\r\n",
        "  \"\"\"\r\n",
        "  #TODO: implement the constant step function\r\n",
        "  raise NotImplementedError"
      ],
      "execution_count": null,
      "outputs": []
    },
    {
      "cell_type": "code",
      "metadata": {
        "id": "4ROCIT9chxHq"
      },
      "source": [
        "def step_decl(n,c):\r\n",
        "  \"\"\"\r\n",
        "  Returns the declining step size for our current n\r\n",
        "  \r\n",
        "  Args:\r\n",
        "      n: The current training iteration\r\n",
        "      c: Constant for our learning rate function\r\n",
        "  \"\"\"\r\n",
        "  #TODO: implement the declining step function\r\n",
        "  raise NotImplementedError"
      ],
      "execution_count": null,
      "outputs": []
    },
    {
      "cell_type": "markdown",
      "metadata": {
        "id": "Vxe_dmMfA8W5"
      },
      "source": [
        "# 3. Model\r\n",
        "\r\n",
        "The next step is to implement our model. For the model we will use a simple lookup table, because we have discrete states and in total just 11 individual states, which we need to evaluate (we are not interested in evaluating the state that we have sold the asset). We will implement the adp-algorithm of slide 17 in lecture 4 for post-decision states (see remarks on slide 47), which simplifies our computation. Note also that we have here a maximization problem and not a minimization problem!\r\n",
        "\r\n",
        "![grafik.png](data:image/png;base64,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)"
      ]
    },
    {
      "cell_type": "code",
      "metadata": {
        "id": "WPoWY2rv_9OO"
      },
      "source": [
        "class model():\r\n",
        "  \"\"\"\r\n",
        "  Solves our problem instance with aproximate dynamic programming and creates a model to predict our value-function\r\n",
        "  \r\n",
        "  Args:\r\n",
        "      T: The maximum stages of our problem-instance\r\n",
        "      stepsize_func (otpional): The function for our learning rate\r\n",
        "      c (optional): Constant for our learning rate function\r\n",
        "      model (optional): The model used for prediction. If nothing is given, a new one will initialized\r\n",
        "  \"\"\"\r\n",
        "\r\n",
        "  def __init__(self,T,stepsize_func=step_n,c=1,model=None,asset=None):\r\n",
        "    self.model = np.zeros((T+1))\r\n",
        "    if model is not None:\r\n",
        "        self.model = model\r\n",
        "    self.expected_rewards = []\r\n",
        "    self.asset = asset_simulation(T)\r\n",
        "    self.stepsize_func = stepsize_func\r\n",
        "    self.c = c\r\n",
        "\r\n",
        "  def get_model(self):\r\n",
        "    return self.model\r\n",
        "  \r\n",
        "  def evaluate(self,iterations):\r\n",
        "    \"\"\"\r\n",
        "    Runs samples and evaluates the Bellman equation\r\n",
        "\r\n",
        "    Args:\r\n",
        "        iterations: number of samples\r\n",
        "    \r\n",
        "    Returns:\r\n",
        "        Sampled rewards\r\n",
        "    \"\"\"\r\n",
        "    rewards = []\r\n",
        "    for n in range(1,iterations):\r\n",
        "      state,done = self.asset.reset()\r\n",
        "      cost = 0\r\n",
        "      while not done:\r\n",
        "        t = self.asset.get_stage()\r\n",
        "        if t<10:\r\n",
        "          action = np.argmax([self.model[t],self.asset.get_price()])\r\n",
        "        else:\r\n",
        "          action = 1\r\n",
        "        next_state,reward,done = self.asset.step(action)\r\n",
        "        cost += reward\r\n",
        "        state = next_state\r\n",
        "      rewards.append(cost)\r\n",
        "    return rewards\r\n",
        "\r\n",
        "  def train(self, iterations):\r\n",
        "    \"\"\"\r\n",
        "    Trains our model and updates our lookup table with each step.\r\n",
        "\r\n",
        "    Args:\r\n",
        "        iterations: number of training iterations\r\n",
        "    \r\n",
        "    Returns:\r\n",
        "        Averaged expected sample rewards per iteration\r\n",
        "    \"\"\"\r\n",
        "    #add the untrained model to the list of average expected sampled rewards\r\n",
        "    self.expected_rewards.append(np.average(self.evaluate(100)))\r\n",
        "    for n in range(1,iterations):\r\n",
        "      alpha = self.stepsize_func(n,self.c)\r\n",
        "      state,done = self.asset.reset()\r\n",
        "      cost = 0\r\n",
        "      while not done:\r\n",
        "          #TODO: implement the adp algorithm for post-decision states\r\n",
        "          raise NotImplementedError\r\n",
        "      \r\n",
        "      #save the evaluated sample mean\r\n",
        "      self.expected_rewards.append(np.average(self.evaluate(100)))\r\n",
        "      #print a training update every 100 iterations\r\n",
        "      if n%100 == 0:\r\n",
        "        print('\\r',f\"iteration {n}, running average reward: {np.average(self.expected_rewards[-10:])}\",end=\"\",flush=True)\r\n",
        "    print()    \r\n",
        "    \r\n",
        "    return self.expected_rewards\r\n",
        "      "
      ],
      "execution_count": null,
      "outputs": []
    },
    {
      "cell_type": "markdown",
      "metadata": {
        "id": "vRfxy4y6Xu8X"
      },
      "source": [
        "# 4. Train your model\r\n",
        "\r\n",
        "Now it is time to train your model. Plot the expected reward over the training time."
      ]
    },
    {
      "cell_type": "code",
      "metadata": {
        "id": "Y2JrmADEHfbg"
      },
      "source": [
        "model1 = model(10,stepsize_func=step_cnst,c=5)\r\n",
        "reward1 = model1.train(1000)\r\n",
        "model2 = model(10,stepsize_func=step_n)\r\n",
        "reward2 = model3.train(1000)\r\n",
        "model3 = model(10,stepsize_func=step_decl,c=950)\r\n",
        "reward3 = model2.train(1000)"
      ],
      "execution_count": null,
      "outputs": []
    },
    {
      "cell_type": "markdown",
      "metadata": {
        "id": "QKIOEZU26xy3"
      },
      "source": [
        "Display the trained value table:"
      ]
    },
    {
      "cell_type": "code",
      "metadata": {
        "id": "ocl8PiPBQt5k"
      },
      "source": [
        "model1.get_model()"
      ],
      "execution_count": null,
      "outputs": []
    },
    {
      "cell_type": "markdown",
      "metadata": {
        "id": "Oiw7Yrf97E5h"
      },
      "source": [
        "To plot the rewards over the training iterations we will use the following helper function:"
      ]
    },
    {
      "cell_type": "code",
      "metadata": {
        "id": "eA41Pqd614aR"
      },
      "source": [
        "def plot_rewards(rewards,optimal_value=1):\r\n",
        "  \"\"\"\r\n",
        "  Plots our reward over the training iterations\r\n",
        "  \r\n",
        "  Args:\r\n",
        "    rewards: List of lists, which consists of sampled rewards\r\n",
        "    optimal_value (optional): If we know the optimal value we can transform our rewards into an percentage, which indicates how far away we are from the optimal values\r\n",
        "  \"\"\"\r\n",
        "  num = 1\r\n",
        "  models = [\"Model 1\"]\r\n",
        "  for res in rewards:\r\n",
        "    if optimal_value >1:\r\n",
        "      res = res/optimal_value\r\n",
        "    plt.plot(res,alpha=0.7)\r\n",
        "    num += 1\r\n",
        "    models.append(f\"Model {num}\")\r\n",
        "  plt.ylabel(\"Reward [€]\")\r\n",
        "  plt.xlabel(\"Iteration [n]\")\r\n",
        "  plt.legend(models)\r\n",
        "  plt.show()"
      ],
      "execution_count": null,
      "outputs": []
    },
    {
      "cell_type": "markdown",
      "metadata": {
        "id": "hKZeSvoM7UdN"
      },
      "source": [
        "And plot the results. Simpley put all your rewards into a list and put it into the helper function:"
      ]
    },
    {
      "cell_type": "code",
      "metadata": {
        "id": "yRrVGNXA7D_3"
      },
      "source": [
        "plot_rewards([reward1,reward2,reward3])"
      ],
      "execution_count": null,
      "outputs": []
    },
    {
      "cell_type": "markdown",
      "metadata": {
        "id": "R2T6Ls9-StvO"
      },
      "source": [
        "# 5. Compare the results\r\n",
        "To evaluate which models are the best, we will run an evaluation of the trained models with fixed policies. For signigicant results, it is always a good practice to compute as many samples as possible."
      ]
    },
    {
      "cell_type": "code",
      "metadata": {
        "id": "kt9MMSCONCSl"
      },
      "source": [
        "eval1 = model1.evaluate(100000)\r\n",
        "eval2 = model2.evaluate(100000)\r\n",
        "eval3 = model3.evaluate(100000)"
      ],
      "execution_count": null,
      "outputs": []
    },
    {
      "cell_type": "markdown",
      "metadata": {
        "id": "_JkkCih9D2NT"
      },
      "source": [
        "We will also compare our models with an untrained model. We do so simply by not training a model and run an evaluation"
      ]
    },
    {
      "cell_type": "code",
      "metadata": {
        "id": "J9g3_rqKD1j1"
      },
      "source": [
        "baseline = model(10,stepsize_func=step_cnst)\r\n",
        "eval4 = baseline.evaluate(100000)"
      ],
      "execution_count": null,
      "outputs": []
    },
    {
      "cell_type": "markdown",
      "metadata": {
        "id": "HNFpKF1x8EVB"
      },
      "source": [
        "To compare the statistics and plot the histograms we will use the following helper functions:"
      ]
    },
    {
      "cell_type": "code",
      "metadata": {
        "id": "1McKu8PlSxbg"
      },
      "source": [
        "def plot_hists(rewards,optimal_value=1):\r\n",
        "  \"\"\"\r\n",
        "  Plots our reward histogram over the sampled rewards\r\n",
        "  \r\n",
        "  Args:\r\n",
        "    rewards: List of lists, which consists of sampled rewards\r\n",
        "    optimal_value (optional): If we know the expected optimal value we can transform our rewards into an percentage, which indicates how far away we are from the optimal values\r\n",
        "  \"\"\"\r\n",
        "  models = []\r\n",
        "  for num in range(1,len(rewards)+1):\r\n",
        "    models.append(f\"Model {num}\")\r\n",
        "  plt.hist(rewards,label=models)\r\n",
        "  plt.xlabel(\"Exptected Reward [€]\")\r\n",
        "  plt.ylabel(\"Amount [n]\")\r\n",
        "  plt.legend(prop={'size': 10})\r\n",
        "  plt.show()"
      ],
      "execution_count": null,
      "outputs": []
    },
    {
      "cell_type": "code",
      "metadata": {
        "id": "vvvOYjY46HwA"
      },
      "source": [
        "def print_summary(rewards,optimal_value=1):\r\n",
        "  \"\"\"\r\n",
        "  Prints the mean and standard deviation of our sampled rewards\r\n",
        "  \r\n",
        "  Args:\r\n",
        "    rewards: List of lists, which consists of sampled rewards\r\n",
        "    optimal_value (optional): If we know the optimal value we can transform our rewards into a percentage (gap), which indicates how far away we are from the optimal values\r\n",
        "  \"\"\"\r\n",
        "  num = 1\r\n",
        "  for res in rewards:\r\n",
        "    if optimal_value >1:\r\n",
        "      print(f\"model {num}: average reward = {np.average(res):.4f}, standard deviation = {np.std(res):.4f}, optimality gap = {np.average(res)/optimal_value*100:.4f}%\")\r\n",
        "    else:\r\n",
        "      print(f\"model {num}: average reward = {np.average(res):.4f}, standard deviation = {np.std(res):.4f}\")\r\n",
        "    num += 1"
      ],
      "execution_count": null,
      "outputs": []
    },
    {
      "cell_type": "markdown",
      "metadata": {
        "id": "jjfzbO_k8PEH"
      },
      "source": [
        "And we can display the comparison:"
      ]
    },
    {
      "cell_type": "code",
      "metadata": {
        "id": "QsVpCaGk7lUK"
      },
      "source": [
        "print_summary([eval1,eval2,eval3,eval4])\r\n",
        "plot_hists([eval1,eval2,eval3,eval4])"
      ],
      "execution_count": null,
      "outputs": []
    },
    {
      "cell_type": "markdown",
      "metadata": {
        "id": "H9gVZUdwQIX5"
      },
      "source": [
        "# 6. Compare with the optimal policy\r\n",
        "For this problem instance we can actually compute the optimal value function (see the previous sub exercise in the assignment sheet). With this information we can actually calculate how far away of our models are from the optimal value function, by evaluating the performance of the optimal policy."
      ]
    },
    {
      "cell_type": "code",
      "metadata": {
        "id": "0cirUR64QHvL"
      },
      "source": [
        "optimal_policy = [8.956063504,8.835188727,8.687452889,8.506886864,8.286195056,8.016460624,7.647633358,7.140495868,6.363636364,5.0,0]\r\n",
        "optimal_model = model(10,model=optimal_policy)\r\n",
        "reward_opt = optimal_model.evaluate(100000)"
      ],
      "execution_count": null,
      "outputs": []
    },
    {
      "cell_type": "code",
      "metadata": {
        "id": "ju2ZHm9dQpOg"
      },
      "source": [
        "opt_average = np.average((reward_opt))\r\n",
        "opt_average"
      ],
      "execution_count": null,
      "outputs": []
    },
    {
      "cell_type": "markdown",
      "metadata": {
        "id": "45o3L3gV86mI"
      },
      "source": [
        "Now we can compare this value with our trained models."
      ]
    },
    {
      "cell_type": "code",
      "metadata": {
        "id": "tsmGwOZXRdqW"
      },
      "source": [
        "print_summary([eval1,eval2,eval3,eval4,reward_opt],opt_average)\r\n",
        "plot_hists([eval1,eval2,eval3,eval4,reward_opt],opt_average)"
      ],
      "execution_count": null,
      "outputs": []
    }
  ]
}